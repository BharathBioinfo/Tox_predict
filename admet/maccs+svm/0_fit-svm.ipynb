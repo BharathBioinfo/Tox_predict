{
 "cells": [
  {
   "cell_type": "markdown",
   "metadata": {},
   "source": [
    "# Fit an SVM using MACCS+FP fingerprints\n",
    "This was the method that was described in the original [admetSAR](https://pubs.acs.org/doi/abs/10.1021/ci300367a) database"
   ]
  },
  {
   "cell_type": "code",
   "execution_count": 1,
   "metadata": {},
   "outputs": [],
   "source": [
    "%matplotlib inline\n",
    "from matplotlib import pyplot as plt\n",
    "from admet.features import SubstructureMatching\n",
    "from sklearn.pipeline import Pipeline\n",
    "from sklearn.model_selection import StratifiedKFold, GridSearchCV, cross_val_score\n",
    "from sklearn.feature_selection import SelectKBest, mutual_info_classif\n",
    "from sklearn.svm import SVC\n",
    "from glob import glob\n",
    "from tqdm import tqdm\n",
    "import pickle as pkl\n",
    "import pandas as pd\n",
    "import numpy as np\n",
    "import shutil\n",
    "import os"
   ]
  },
  {
   "cell_type": "markdown",
   "metadata": {},
   "source": [
    "## Load in the Datasets\n",
    "Load all of them"
   ]
  },
  {
   "cell_type": "code",
   "execution_count": 2,
   "metadata": {},
   "outputs": [
    {
     "name": "stdout",
     "output_type": "stream",
     "text": [
      "Found 4 datasets\n"
     ]
    }
   ],
   "source": [
    "csvs = glob(os.path.join('..', 'datasets', '*.csv'))\n",
    "print(f'Found {len(csvs)} datasets')"
   ]
  },
  {
   "cell_type": "code",
   "execution_count": 3,
   "metadata": {},
   "outputs": [],
   "source": [
    "datasets = dict(\n",
    "    (os.path.basename(f)[:-4], pd.read_csv(f)) for f in csvs\n",
    ")"
   ]
  },
  {
   "cell_type": "markdown",
   "metadata": {},
   "source": [
    "## Train an SVM\n",
    "Estimate the performance of the models using 5-fold CV so we can compare to the paper."
   ]
  },
  {
   "cell_type": "code",
   "execution_count": 4,
   "metadata": {},
   "outputs": [],
   "source": [
    "model = Pipeline([\n",
    "    ('featurize', SubstructureMatching()),\n",
    "    ('feature_selection', SelectKBest(score_func=mutual_info_classif)),\n",
    "    ('svc', GridSearchCV(SVC(probability=True), cv=5, param_grid={\n",
    "        'C': np.logspace(-4, 4, 10), \n",
    "    }))\n",
    "])"
   ]
  },
  {
   "cell_type": "code",
   "execution_count": 5,
   "metadata": {},
   "outputs": [
    {
     "name": "stdout",
     "output_type": "stream",
     "text": [
      "Using T_Carc_I as a test case\n"
     ]
    }
   ],
   "source": [
    "test_name = 'T_Carc_I'\n",
    "test_set = datasets[test_name]\n",
    "print(f'Using {test_name} as a test case')"
   ]
  },
  {
   "cell_type": "markdown",
   "metadata": {},
   "source": [
    "Run 5-fold cross-validation"
   ]
  },
  {
   "cell_type": "code",
   "execution_count": 6,
   "metadata": {},
   "outputs": [
    {
     "name": "stdout",
     "output_type": "stream",
     "text": [
      "Without modification: Accuracy =  87.37%\n"
     ]
    }
   ],
   "source": [
    "k = StratifiedKFold(n_splits=5, shuffle=True)\n",
    "score = cross_val_score(model, test_set['SMILES'], test_set['is_toxic'], cv=k,\n",
    "                       scoring='accuracy')\n",
    "print(f'Without modification: Accuracy = {score.mean() * 100: .2f}%')"
   ]
  },
  {
   "cell_type": "markdown",
   "metadata": {},
   "source": [
    "The admetSAR reports 88.4% for this dataset, so I think we're doing alright"
   ]
  },
  {
   "cell_type": "code",
   "execution_count": 7,
   "metadata": {},
   "outputs": [
    {
     "name": "stdout",
     "output_type": "stream",
     "text": [
      "Baseline accuracy:  78.16%\n"
     ]
    }
   ],
   "source": [
    "baseline = test_set['is_toxic'].value_counts().max() / len(test_set)\n",
    "print(f'Baseline accuracy: {baseline * 100: .2f}%')"
   ]
  },
  {
   "cell_type": "markdown",
   "metadata": {},
   "source": [
    "Evaluate change as we add more features"
   ]
  },
  {
   "cell_type": "code",
   "execution_count": 8,
   "metadata": {},
   "outputs": [
    {
     "name": "stderr",
     "output_type": "stream",
     "text": [
      "100%|██████████| 8/8 [09:26<00:00, 70.78s/it]\n"
     ]
    }
   ],
   "source": [
    "param_tuning = []\n",
    "for nf in tqdm(np.logspace(1, np.log10(model[0].num_features), 8, dtype=np.int)):\n",
    "    model[1].k = nf\n",
    "    scores = [cross_val_score(model, test_set['SMILES'], test_set['is_toxic'], \n",
    "                              cv=k, scoring='accuracy', n_jobs=-1).mean() \n",
    "              for _ in range(8)]\n",
    "    param_tuning.append({\n",
    "        'k': nf,\n",
    "        'scores': scores\n",
    "    })"
   ]
  },
  {
   "cell_type": "markdown",
   "metadata": {},
   "source": [
    "Compute some statistics"
   ]
  },
  {
   "cell_type": "code",
   "execution_count": 9,
   "metadata": {},
   "outputs": [],
   "source": [
    "param_tuning = pd.DataFrame(param_tuning)\n",
    "param_tuning['mean_score'] = param_tuning['scores'].apply(np.mean)\n",
    "param_tuning['min_score'] = param_tuning['scores'].apply(min)\n",
    "param_tuning['std_score'] = param_tuning['scores'].apply(np.std)"
   ]
  },
  {
   "cell_type": "code",
   "execution_count": 10,
   "metadata": {},
   "outputs": [
    {
     "name": "stdout",
     "output_type": "stream",
     "text": [
      "Best accuracy:  89.3%\n"
     ]
    }
   ],
   "source": [
    "print(f'Best accuracy: {param_tuning[\"mean_score\"].max()*100: .1f}%')"
   ]
  },
  {
   "cell_type": "code",
   "execution_count": 11,
   "metadata": {},
   "outputs": [
    {
     "data": {
      "image/png": "[encoded data removed]",
      "text/plain": [
       "<Figure size 252x180 with 1 Axes>"
      ]
     },
     "metadata": {
      "needs_background": "light"
     },
     "output_type": "display_data"
    }
   ],
   "source": [
    "fig, ax = plt.subplots(figsize=(3.5, 2.5))\n",
    "\n",
    "ax.errorbar(param_tuning['k'], param_tuning['mean_score'], fmt='-o', yerr=param_tuning['std_score'])\n",
    "ax.set_xscale('log')\n",
    "\n",
    "ax.set_xlabel('# Features')\n",
    "ax.set_ylabel('Accuracy (%)')\n",
    "fig.tight_layout()"
   ]
  },
  {
   "cell_type": "markdown",
   "metadata": {},
   "source": [
    "*Finding*: We are 200 features. There is not much variation once we get above 100."
   ]
  },
  {
   "cell_type": "markdown",
   "metadata": {},
   "source": [
    "## Perform 5-fold CV for All Models\n",
    "Just to quickly assess the performance"
   ]
  },
  {
   "cell_type": "code",
   "execution_count": 12,
   "metadata": {},
   "outputs": [],
   "source": [
    "model[1].k = 200"
   ]
  },
  {
   "cell_type": "markdown",
   "metadata": {},
   "source": [
    "Train for all of the models. Run 5-fold cv for them to provide a summary"
   ]
  },
  {
   "cell_type": "code",
   "execution_count": 13,
   "metadata": {},
   "outputs": [],
   "source": [
    "if os.path.isdir('models'):\n",
    "    shutil.rmtree('models')\n",
    "os.mkdir('models')"
   ]
  },
  {
   "cell_type": "code",
   "execution_count": 14,
   "metadata": {},
   "outputs": [
    {
     "name": "stderr",
     "output_type": "stream",
     "text": [
      " 25%|██▌       | 1/4 [00:13<00:39, 13.17s/it]"
     ]
    },
    {
     "name": "stdout",
     "output_type": "stream",
     "text": [
      "T_Carc_I - 5-fold CV, Mean =  0.886 All = ['0.873', '0.916', '0.906', '0.889', '0.844']\n"
     ]
    },
    {
     "name": "stderr",
     "output_type": "stream",
     "text": [
      " 50%|█████     | 2/4 [1:40:00<1:00:11, 1805.52s/it]"
     ]
    },
    {
     "name": "stdout",
     "output_type": "stream",
     "text": [
      "T_AMES_I - 5-fold CV, Mean =  0.890 All = ['0.879', '0.888', '0.892', '0.902', '0.887']\n"
     ]
    },
    {
     "name": "stderr",
     "output_type": "stream",
     "text": [
      " 75%|███████▌  | 3/4 [1:40:16<21:08, 1268.47s/it]  "
     ]
    },
    {
     "name": "stdout",
     "output_type": "stream",
     "text": [
      "T_hERG_I - 5-fold CV, Mean =  0.791 All = ['0.792', '0.830', '0.818', '0.822', '0.693']\n"
     ]
    },
    {
     "name": "stderr",
     "output_type": "stream",
     "text": [
      "100%|██████████| 4/4 [1:41:12<00:00, 1518.23s/it]"
     ]
    },
    {
     "name": "stdout",
     "output_type": "stream",
     "text": [
      "T_hERG_II - 5-fold CV, Mean =  0.845 All = ['0.875', '0.833', '0.826', '0.853', '0.837']\n"
     ]
    },
    {
     "name": "stderr",
     "output_type": "stream",
     "text": [
      "\n"
     ]
    }
   ],
   "source": [
    "for name, dataset in tqdm(datasets.items()):\n",
    "    # Fit the model\n",
    "    model.fit(dataset['SMILES'], dataset['is_toxic'])\n",
    "    \n",
    "    # Save it to disk\n",
    "    with open(os.path.join('models', f'{name}.pkl'), 'wb') as fp:\n",
    "        pkl.dump(model, fp)\n",
    "        \n",
    "    # Run 5-fold cv\n",
    "    cv_scores = cross_val_score(model, dataset['SMILES'], dataset['is_toxic'], \n",
    "                                cv=k, scoring='roc_auc', n_jobs=-1)\n",
    "    print(f'{name} - 5-fold CV, Mean = {np.mean(cv_scores): .3f} All = {[\"%.3f\"%x for x in cv_scores]}')"
   ]
  },
  {
   "cell_type": "code",
   "execution_count": null,
   "metadata": {},
   "outputs": [],
   "source": []
  }
 ],
 "metadata": {
  "kernelspec": {
   "display_name": "Python 3",
   "language": "python",
   "name": "python3"
  },
  "language_info": {
   "codemirror_mode": {
    "name": "ipython",
    "version": 3
   },
   "file_extension": ".py",
   "mimetype": "text/x-python",
   "name": "python",
   "nbconvert_exporter": "python",
   "pygments_lexer": "ipython3",
   "version": "3.7.6"
  }
 },
 "nbformat": 4,
 "nbformat_minor": 4
}
