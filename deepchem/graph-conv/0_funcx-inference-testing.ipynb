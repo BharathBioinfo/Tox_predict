{
 "cells": [
  {
   "cell_type": "markdown",
   "metadata": {},
   "source": [
    "# Run Inference with FuncX\n",
    "This notebook is used to evaluate the performance of a large-scale inference run of predicting molecular toxicity using our graph-conv model.\n",
    "The inferences are performed by sending batches of tasks to Theta via FuncX at various batch sizes, which is the main knob we can tinker with for the inference."
   ]
  },
  {
   "cell_type": "code",
   "execution_count": 1,
   "metadata": {},
   "outputs": [
    {
     "name": "stderr",
     "output_type": "stream",
     "text": [
      "RDKit WARNING: [07:44:08] Enabling RDKit 2019.09.3 jupyter extensions\n"
     ]
    }
   ],
   "source": [
    "from funcx.sdk.client import FuncXClient\n",
    "from datetime import datetime\n",
    "from time import sleep\n",
    "from rdkit import Chem\n",
    "from tqdm import tqdm\n",
    "import pandas as pd\n",
    "import numpy as np\n",
    "import json\n",
    "import os"
   ]
  },
  {
   "cell_type": "markdown",
   "metadata": {},
   "source": [
    "Configuration"
   ]
  },
  {
   "cell_type": "code",
   "execution_count": 2,
   "metadata": {},
   "outputs": [],
   "source": [
    "batch_sizes = [128, 256, 512, 1024, 2048, 4096, 8192]\n",
    "output_file = 'funcx_perf_test.csv'"
   ]
  },
  {
   "cell_type": "markdown",
   "metadata": {},
   "source": [
    "## Prepare the FuncX Client\n",
    "This is what we'll be using to connect to Theta for sending/recieving tasks"
   ]
  },
  {
   "cell_type": "code",
   "execution_count": 3,
   "metadata": {},
   "outputs": [
    {
     "name": "stdout",
     "output_type": "stream",
     "text": [
      "Running inference on 627d9b72-8f4f-4020-9c76-696596e6eac8\n"
     ]
    }
   ],
   "source": [
    "fxc = FuncXClient()\n",
    "theta_ep = 'd3a23590-3282-429a-8bce-e0ca0f4177f3'\n",
    "with open('func_uuid.json') as fp:\n",
    "    func_id = json.load(fp)\n",
    "print(f'Running inference on {func_id}')"
   ]
  },
  {
   "cell_type": "markdown",
   "metadata": {},
   "source": [
    "## Send Inference Requests\n",
    "Send out inferenece requests for each dataset"
   ]
  },
  {
   "cell_type": "markdown",
   "metadata": {},
   "source": [
    "Parse the data and make sure the SMILES are valid"
   ]
  },
  {
   "cell_type": "code",
   "execution_count": 4,
   "metadata": {},
   "outputs": [
    {
     "name": "stdout",
     "output_type": "stream",
     "text": [
      "Loaded 9678 molecules\n"
     ]
    }
   ],
   "source": [
    "drugbank = pd.read_csv(os.path.join('..', 'databases', 'drugbank', 'smiles.txt'), header=None)\n",
    "print(f'Loaded {len(drugbank)} molecules')"
   ]
  },
  {
   "cell_type": "code",
   "execution_count": 5,
   "metadata": {},
   "outputs": [],
   "source": [
    "drugbank.rename(columns={0: 'smiles'}, inplace=True)"
   ]
  },
  {
   "cell_type": "code",
   "execution_count": 6,
   "metadata": {},
   "outputs": [],
   "source": [
    "drugbank['smiles'] = drugbank['smiles'].apply(lambda x: x[:-8])"
   ]
  },
  {
   "cell_type": "code",
   "execution_count": 7,
   "metadata": {},
   "outputs": [
    {
     "name": "stderr",
     "output_type": "stream",
     "text": [
      "RDKit ERROR: [07:44:10] Explicit valence for atom # 2 O, 3, is greater than permitted\n",
      "RDKit ERROR: [07:44:10] Explicit valence for atom # 0 N, 4, is greater than permitted\n",
      "RDKit ERROR: [07:44:10] Explicit valence for atom # 0 N, 4, is greater than permitted\n",
      "RDKit ERROR: [07:44:10] Explicit valence for atom # 0 N, 4, is greater than permitted\n",
      "RDKit ERROR: [07:44:10] Explicit valence for atom # 13 Cl, 5, is greater than permitted\n",
      "RDKit ERROR: [07:44:10] SMILES Parse Error: syntax error while parsing: OS(O)(O)C1=CC=C(C=C1)C-1=C2\\C=CC(=N2)\\C(=C2/N\\C(\\C=C2)=C(/C2=N/C(/C=C2)=C(\\C2=CC=C\\-1N2)C1=CC=C(C=C1)S(O)(O)O)C1=CC=C(C=C1)S([O-])([O-])[O-])\\C1=CC=C(C=C1)S(O)(O)[O-]\n",
      "RDKit ERROR: [07:44:10] SMILES Parse Error: Failed parsing SMILES 'OS(O)(O)C1=CC=C(C=C1)C-1=C2\\C=CC(=N2)\\C(=C2/N\\C(\\C=C2)=C(/C2=N/C(/C=C2)=C(\\C2=CC=C\\-1N2)C1=CC=C(C=C1)S(O)(O)O)C1=CC=C(C=C1)S([O-])([O-])[O-])\\C1=CC=C(C=C1)S(O)(O)[O-]' for input: 'OS(O)(O)C1=CC=C(C=C1)C-1=C2\\C=CC(=N2)\\C(=C2/N\\C(\\C=C2)=C(/C2=N/C(/C=C2)=C(\\C2=CC=C\\-1N2)C1=CC=C(C=C1)S(O)(O)O)C1=CC=C(C=C1)S([O-])([O-])[O-])\\C1=CC=C(C=C1)S(O)(O)[O-]'\n",
      "RDKit ERROR: [07:44:10] Explicit valence for atom # 14 N, 5, is greater than permitted\n",
      "RDKit ERROR: [07:44:10] Explicit valence for atom # 19 O, 3, is greater than permitted\n",
      "RDKit ERROR: [07:44:10] Explicit valence for atom # 2 O, 3, is greater than permitted\n",
      "RDKit ERROR: [07:44:10] Explicit valence for atom # 6 N, 4, is greater than permitted\n",
      "RDKit ERROR: [07:44:10] Explicit valence for atom # 11 N, 4, is greater than permitted\n",
      "RDKit ERROR: [07:44:10] Explicit valence for atom # 0 O, 3, is greater than permitted\n",
      "RDKit ERROR: [07:44:10] Explicit valence for atom # 6 Be, 4, is greater than permitted\n",
      "RDKit ERROR: [07:44:10] Explicit valence for atom # 3 N, 4, is greater than permitted\n",
      "RDKit ERROR: [07:44:10] Explicit valence for atom # 4 F, 2, is greater than permitted\n",
      "RDKit ERROR: [07:44:11] Explicit valence for atom # 13 Be, 3, is greater than permitted\n",
      "RDKit ERROR: [07:44:11] Explicit valence for atom # 2 N, 4, is greater than permitted\n",
      "RDKit ERROR: [07:44:11] SMILES Parse Error: syntax error while parsing: OC1=CC=CC(=C1)C-1=C2\\CCC(=N2)\\C(=C2/N\\C(\\C=C2)=C(/C2=N/C(/C=C2)=C(\\C2=CC=C\\-1N2)C1=CC(O)=CC=C1)C1=CC(O)=CC=C1)\\C1=CC(O)=CC=C1\n",
      "RDKit ERROR: [07:44:11] SMILES Parse Error: Failed parsing SMILES 'OC1=CC=CC(=C1)C-1=C2\\CCC(=N2)\\C(=C2/N\\C(\\C=C2)=C(/C2=N/C(/C=C2)=C(\\C2=CC=C\\-1N2)C1=CC(O)=CC=C1)C1=CC(O)=CC=C1)\\C1=CC(O)=CC=C1' for input: 'OC1=CC=CC(=C1)C-1=C2\\CCC(=N2)\\C(=C2/N\\C(\\C=C2)=C(/C2=N/C(/C=C2)=C(\\C2=CC=C\\-1N2)C1=CC(O)=CC=C1)C1=CC(O)=CC=C1)\\C1=CC(O)=CC=C1'\n",
      "RDKit ERROR: [07:44:11] Explicit valence for atom # 1 Cl, 4, is greater than permitted\n",
      "RDKit ERROR: [07:44:11] Explicit valence for atom # 0 N, 4, is greater than permitted\n",
      "RDKit ERROR: [07:44:11] Explicit valence for atom # 0 Cl, 2, is greater than permitted\n",
      "RDKit ERROR: [07:44:11] Explicit valence for atom # 5 K, 2, is greater than permitted\n",
      "RDKit ERROR: [07:44:11] Explicit valence for atom # 0 Mg, 4, is greater than permitted\n"
     ]
    }
   ],
   "source": [
    "drugbank['invalid'] = drugbank['smiles'].apply(Chem.MolFromSmiles).apply(lambda x: x is None)"
   ]
  },
  {
   "cell_type": "code",
   "execution_count": 8,
   "metadata": {},
   "outputs": [
    {
     "name": "stdout",
     "output_type": "stream",
     "text": [
      "Found 9655 valid SMILES\n"
     ]
    }
   ],
   "source": [
    "drugbank.query('not invalid', inplace=True)\n",
    "print(f'Found {len(drugbank)} valid SMILES')"
   ]
  },
  {
   "cell_type": "markdown",
   "metadata": {},
   "source": [
    "Make the tasks"
   ]
  },
  {
   "cell_type": "code",
   "execution_count": 9,
   "metadata": {},
   "outputs": [],
   "source": [
    "fxc.max_requests = 5000  # Enable faster task submission"
   ]
  },
  {
   "cell_type": "code",
   "execution_count": 10,
   "metadata": {},
   "outputs": [
    {
     "name": "stdout",
     "output_type": "stream",
     "text": [
      "Submitted 146 tasks\n"
     ]
    }
   ],
   "source": [
    "db_tasks = []\n",
    "for batch_size in batch_sizes:\n",
    "    for chunk in np.array_split(drugbank['smiles'], len(drugbank) // batch_size):\n",
    "        db_tasks.append(fxc.run(chunk.tolist(), endpoint_id=theta_ep, function_id=func_id))\n",
    "        sleep(0.1)\n",
    "print(f'Submitted {len(db_tasks)} tasks')"
   ]
  },
  {
   "cell_type": "markdown",
   "metadata": {},
   "source": [
    "## Save Results\n",
    "As results are returned, save them to disk"
   ]
  },
  {
   "cell_type": "code",
   "execution_count": 11,
   "metadata": {},
   "outputs": [],
   "source": [
    "columns = ['smiles']"
   ]
  },
  {
   "cell_type": "code",
   "execution_count": 12,
   "metadata": {},
   "outputs": [],
   "source": [
    "def write_results(status, path): \n",
    "    # Loop over all results in the status message\n",
    "    for key, result in status.items():\n",
    "        result = result['result']\n",
    "        # Parse the data\n",
    "        data = pd.DataFrame(result['result'])\n",
    "        exists = os.path.isfile(path)\n",
    "        \n",
    "        # Get the runtime and save it\n",
    "        data['task_id'] = key\n",
    "        data['runtime'] = (datetime.fromisoformat(result['end']) - datetime.fromisoformat(result['start'])).total_seconds()\n",
    "        data['start_time'] = result['start']\n",
    "        data['end_time'] = result['start']\n",
    "        \n",
    "        # Save the result to disk\n",
    "        data.to_csv(path, mode='a', header=not exists, index=False)"
   ]
  },
  {
   "cell_type": "code",
   "execution_count": 14,
   "metadata": {},
   "outputs": [
    {
     "name": "stderr",
     "output_type": "stream",
     "text": [
      "\n",
      "  0%|          | 0/146 [00:00<?, ?it/s]\u001b[A\n",
      "  0%|          | 0/146 [00:00<?, ?it/s]\u001b[A\n",
      "  0%|          | 0/146 [00:15<?, ?it/s]\u001b[A\n",
      "  0%|          | 0/146 [00:30<?, ?it/s]\u001b[A\n",
      "  0%|          | 0/146 [00:45<?, ?it/s]\u001b[A\n",
      "  0%|          | 0/146 [01:01<?, ?it/s]\u001b[A\n",
      "  0%|          | 0/146 [01:16<?, ?it/s]\u001b[A\n",
      "  2%|▏         | 3/146 [01:31<12:10,  5.11s/it]\u001b[A\n",
      " 32%|███▏      | 46/146 [01:47<06:08,  3.69s/it]\u001b[A\n",
      " 58%|█████▊    | 84/146 [02:03<02:47,  2.71s/it]\u001b[A\n",
      " 74%|███████▍  | 108/146 [02:19<01:19,  2.09s/it]\u001b[A\n",
      " 84%|████████▍ | 123/146 [02:35<00:40,  1.78s/it]\u001b[A\n",
      " 91%|█████████ | 133/146 [02:50<00:22,  1.71s/it]\u001b[A\n",
      " 95%|█████████▌| 139/146 [03:05<00:13,  1.96s/it]\u001b[A\n",
      " 97%|█████████▋| 142/146 [03:21<00:11,  2.91s/it]\u001b[A\n",
      " 99%|█████████▊| 144/146 [03:36<00:08,  4.35s/it]\u001b[A\n",
      " 99%|█████████▉| 145/146 [03:52<00:07,  7.67s/it]\u001b[A\n",
      "100%|██████████| 146/146 [04:07<00:00, 10.00s/it]\u001b[A"
     ]
    }
   ],
   "source": [
    "remaining_results = set(db_tasks)\n",
    "pbar = tqdm(total=len(db_tasks))\n",
    "while len(remaining_results) > 0:\n",
    "    # Get the status of the current tasks\n",
    "    status = fxc.get_batch_status(list(remaining_results))\n",
    "    \n",
    "    # Write the results to disk\n",
    "    write_results(status, output_file)\n",
    "    \n",
    "    # Update the list of results that are remaining\n",
    "    remaining_results.difference_update(status.keys())\n",
    "    pbar.update(len(status))\n",
    "    sleep(15)"
   ]
  },
  {
   "cell_type": "code",
   "execution_count": null,
   "metadata": {},
   "outputs": [],
   "source": []
  }
 ],
 "metadata": {
  "kernelspec": {
   "display_name": "Python 3",
   "language": "python",
   "name": "python3"
  },
  "language_info": {
   "codemirror_mode": {
    "name": "ipython",
    "version": 3
   },
   "file_extension": ".py",
   "mimetype": "text/x-python",
   "name": "python",
   "nbconvert_exporter": "python",
   "pygments_lexer": "ipython3",
   "version": "3.7.6"
  }
 },
 "nbformat": 4,
 "nbformat_minor": 4
}
