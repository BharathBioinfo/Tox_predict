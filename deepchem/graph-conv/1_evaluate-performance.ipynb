{
 "cells": [
  {
   "cell_type": "markdown",
   "metadata": {},
   "source": [
    "# Assess FuncX Performance\n",
    "Measure how quickly we evaluate tasks"
   ]
  },
  {
   "cell_type": "code",
   "execution_count": 1,
   "metadata": {},
   "outputs": [],
   "source": [
    "%matplotlib inline\n",
    "from matplotlib import pyplot as plt\n",
    "import pandas as pd"
   ]
  },
  {
   "cell_type": "markdown",
   "metadata": {},
   "source": [
    "## Load in the Tox Screening Data\n",
    "We are going to look at the DrugBank subset, which is only ~9000 entries. "
   ]
  },
  {
   "cell_type": "code",
   "execution_count": 2,
   "metadata": {},
   "outputs": [
    {
     "name": "stdout",
     "output_type": "stream",
     "text": [
      "Read 67585 inference records\n"
     ]
    }
   ],
   "source": [
    "run_data = pd.read_csv('funcx_perf_test.csv')\n",
    "print(f'Read {len(run_data)} inference records')"
   ]
  },
  {
   "cell_type": "markdown",
   "metadata": {},
   "source": [
    "## Compute the Evaluation Rate Batch-wise\n",
    "The SMILES strings are evaluated in multiple batches. We compute evaluation rate by dividing the batch run time by the number of molecules per batch"
   ]
  },
  {
   "cell_type": "code",
   "execution_count": 3,
   "metadata": {},
   "outputs": [
    {
     "name": "stdout",
     "output_type": "stream",
     "text": [
      "Processed 146 batches\n"
     ]
    }
   ],
   "source": [
    "batch_runinfo = run_data.groupby('task_id').agg({'runtime': ['mean', 'count']})\n",
    "print(f'Processed {len(batch_runinfo)} batches')"
   ]
  },
  {
   "cell_type": "code",
   "execution_count": 4,
   "metadata": {},
   "outputs": [],
   "source": [
    "batch_runinfo['eval_rate'] = batch_runinfo[('runtime', 'count')] / batch_runinfo[('runtime', 'mean')]\n",
    "batch_runinfo['batch_size'] = batch_runinfo[('runtime', 'count')]"
   ]
  },
  {
   "cell_type": "code",
   "execution_count": 5,
   "metadata": {},
   "outputs": [
    {
     "data": {
      "text/plain": [
       "<matplotlib.collections.PathCollection at 0x7f72b2de4dd0>"
      ]
     },
     "execution_count": 5,
     "metadata": {},
     "output_type": "execute_result"
    },
    {
     "data": {
      "image/png": "[encoded data removed]",
      "text/plain": [
       "<Figure size 252x180 with 1 Axes>"
      ]
     },
     "metadata": {
      "needs_background": "light"
     },
     "output_type": "display_data"
    }
   ],
   "source": [
    "fig, ax = plt.subplots(figsize=(3.5, 2.5))\n",
    "\n",
    "# Plot the individual batches\n",
    "ax.scatter(batch_runinfo['batch_size'], batch_runinfo['eval_rate'], s=15)"
   ]
  },
  {
   "cell_type": "markdown",
   "metadata": {},
   "source": [
    "*Finding*: It appears that batch sizes of around 2048 are optimal"
   ]
  },
  {
   "cell_type": "markdown",
   "metadata": {},
   "source": [
    "## Compute Time to Evaluate 1B Molecules\n",
    "We are going to use an estimate based on the 2048 batch size"
   ]
  },
  {
   "cell_type": "code",
   "execution_count": 6,
   "metadata": {},
   "outputs": [
    {
     "name": "stdout",
     "output_type": "stream",
     "text": [
      "Estimated inference rate:  433.77 mol/node-s\n"
     ]
    }
   ],
   "source": [
    "eval_rate = batch_runinfo[batch_runinfo['batch_size'] < 2000]['eval_rate'].mean()\n",
    "print(f'Estimated inference rate: {eval_rate : .2f} mol/node-s')"
   ]
  },
  {
   "cell_type": "code",
   "execution_count": 7,
   "metadata": {},
   "outputs": [
    {
     "name": "stdout",
     "output_type": "stream",
     "text": [
      "Estimated screening time:  5.0 hrs\n"
     ]
    }
   ],
   "source": [
    "inference_size = 1e9\n",
    "node_count = 128\n",
    "run_time = inference_size / (eval_rate * node_count) / 3600  # To get it in hours\n",
    "print(f'Estimated screening time: {run_time : .1f} hrs')"
   ]
  },
  {
   "cell_type": "code",
   "execution_count": null,
   "metadata": {},
   "outputs": [],
   "source": []
  }
 ],
 "metadata": {
  "kernelspec": {
   "display_name": "Python 3",
   "language": "python",
   "name": "python3"
  },
  "language_info": {
   "codemirror_mode": {
    "name": "ipython",
    "version": 3
   },
   "file_extension": ".py",
   "mimetype": "text/x-python",
   "name": "python",
   "nbconvert_exporter": "python",
   "pygments_lexer": "ipython3",
   "version": "3.7.6"
  }
 },
 "nbformat": 4,
 "nbformat_minor": 4
}
